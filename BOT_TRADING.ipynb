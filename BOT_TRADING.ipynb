{
  "nbformat": 4,
  "nbformat_minor": 0,
  "metadata": {
    "colab": {
      "provenance": [],
      "authorship_tag": "ABX9TyMSbgdguTdHkBmbBx6Njsbt",
      "include_colab_link": true
    },
    "kernelspec": {
      "name": "python3",
      "display_name": "Python 3"
    },
    "language_info": {
      "name": "python"
    }
  },
  "cells": [
    {
      "cell_type": "markdown",
      "metadata": {
        "id": "view-in-github",
        "colab_type": "text"
      },
      "source": [
        "<a href=\"https://colab.research.google.com/github/Gabrielghj/BOT-AVANZADO-DE-TRADING/blob/main/BOT_TRADING.ipynb\" target=\"_parent\"><img src=\"https://colab.research.google.com/assets/colab-badge.svg\" alt=\"Open In Colab\"/></a>"
      ]
    },
    {
      "cell_type": "markdown",
      "source": [
        "Instalar librerías necesarias"
      ],
      "metadata": {
        "id": "Iuc6G6Xond2t"
      }
    },
    {
      "cell_type": "code",
      "execution_count": null,
      "metadata": {
        "id": "6054GnoFm4oc"
      },
      "outputs": [],
      "source": [
        "# Instalar librerías necesarias\n",
        "!pip install backtrader yfinance\n"
      ]
    },
    {
      "cell_type": "code",
      "source": [
        "# Importar librerías\n",
        "import backtrader as bt\n",
        "import yfinance as yf\n",
        "import pandas as pd\n"
      ],
      "metadata": {
        "id": "xqI3DwlrnhF9"
      },
      "execution_count": null,
      "outputs": []
    },
    {
      "cell_type": "code",
      "source": [
        "# Descargar datos históricos de Bitcoin\n",
        "ticker = 'BTC-USD'\n",
        "data = yf.download(ticker, start='2023-01-01', end='2024-01-01')\n",
        "\n",
        "# Mostrar las primeras filas para verificar\n",
        "data.head()\n"
      ],
      "metadata": {
        "id": "NGoHyalknpL0"
      },
      "execution_count": null,
      "outputs": []
    },
    {
      "cell_type": "code",
      "source": [
        "class AdvancedRSIStrategy(bt.Strategy):\n",
        "    params = (\n",
        "        ('rsi_period', 14),\n",
        "        ('sma_fast', 10),\n",
        "        ('sma_slow', 30),\n",
        "        ('stop_loss', 0.02),   # 2% Stop Loss\n",
        "        ('take_profit', 0.04)  # 4% Take Profit\n",
        "    )\n",
        "\n",
        "    def __init__(self):\n",
        "        self.rsi = bt.indicators.RSI_SMA(self.data.close, period=self.params.rsi_period)\n",
        "        self.sma_fast = bt.indicators.SimpleMovingAverage(self.data.close, period=self.params.sma_fast)\n",
        "        self.sma_slow = bt.indicators.SimpleMovingAverage(self.data.close, period=self.params.sma_slow)\n",
        "        self.order = None\n",
        "        self.buy_price = None\n",
        "\n",
        "    def next(self):\n",
        "        # No abrir nuevas órdenes si ya hay una pendiente\n",
        "        if self.order:\n",
        "            return\n",
        "\n",
        "        # Señal de compra\n",
        "        if not self.position:\n",
        "            if self.rsi < 30 and self.sma_fast > self.sma_slow:\n",
        "                self.order = self.buy()\n",
        "                self.buy_price = self.data.close[0]\n",
        "                print(f\"🔵 COMPRADO a {self.buy_price:.2f} en {self.datetime.date(0)}\")\n",
        "\n",
        "        # Señal de venta (Take Profit o Stop Loss)\n",
        "        else:\n",
        "            price_change = (self.data.close[0] - self.buy_price) / self.buy_price\n",
        "\n",
        "            if price_change >= self.params.take_profit:\n",
        "                self.order = self.sell()\n",
        "                print(f\"🟢 TAKE PROFIT VENDIDO a {self.data.close[0]:.2f} en {self.datetime.date(0)}\")\n",
        "\n",
        "            elif price_change <= -self.params.stop_loss:\n",
        "                self.order = self.sell()\n",
        "                print(f\"🔴 STOP LOSS VENDIDO a {self.data.close[0]:.2f} en {self.datetime.date(0)}\")\n"
      ],
      "metadata": {
        "id": "G6gjltfPnzhc"
      },
      "execution_count": null,
      "outputs": []
    },
    {
      "cell_type": "code",
      "source": [
        "# Configurar cerebro y cargar datos\n",
        "\n",
        "# Crear cerebro\n",
        "cerebro = bt.Cerebro()\n",
        "\n",
        "# Cargar datos en formato Backtrader\n",
        "data_feed = bt.feeds.PandasData(dataname=data)\n",
        "cerebro.adddata(data_feed)\n",
        "\n",
        "# Agregar estrategia\n",
        "cerebro.addstrategy(AdvancedRSIStrategy)\n",
        "\n",
        "# Configuraciones generales\n",
        "cerebro.broker.setcash(10000.0)\n",
        "cerebro.broker.setcommission(commission=0.001)\n",
        "cerebro.addsizer(bt.sizers.FixedSize, stake=1)\n"
      ],
      "metadata": {
        "id": "Z4cNhPFdn6G8"
      },
      "execution_count": null,
      "outputs": []
    },
    {
      "cell_type": "code",
      "source": [
        "# Ejecutar la simulación\n",
        "\n",
        "# Mostrar valor inicial\n",
        "print('🚀 Valor inicial del portafolio: %.2f' % cerebro.broker.getvalue())\n",
        "\n",
        "# Ejecutar\n",
        "cerebro.run()\n",
        "\n",
        "# Mostrar valor final\n",
        "print('💰 Valor final del portafolio: %.2f' % cerebro.broker.getvalue())\n"
      ],
      "metadata": {
        "id": "i2qW6TbJoDV0"
      },
      "execution_count": null,
      "outputs": []
    },
    {
      "cell_type": "code",
      "source": [
        "# Graficar la estrategia\n",
        "cerebro.plot()\n"
      ],
      "metadata": {
        "id": "9pFlCcyToJe1"
      },
      "execution_count": null,
      "outputs": []
    }
  ]
}